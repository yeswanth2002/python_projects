{
 "cells": [
  {
   "cell_type": "code",
   "execution_count": 6,
   "id": "76e6f78e",
   "metadata": {},
   "outputs": [],
   "source": [
    "import random\n",
    "number = random.randint(1, 10)"
   ]
  },
  {
   "cell_type": "code",
   "execution_count": null,
   "id": "15b30c27",
   "metadata": {},
   "outputs": [],
   "source": [
    "player_name = input(\"Hello, what is your name? \")\n",
    "number_of_guesses = 0\n",
    "print('Lets play a game with you {}'.format(player_name))\n",
    "print('I will think a number between 1 and 10 then you will guess, alright?')\n",
    "print('Don\\'t forget! You have only 3 chances so guess:')\n",
    "\n",
    "while number_of_guesses < 3:\n",
    "    guess = int(input())\n",
    "    number_of_guesses += 1\n",
    "    if guess < number:\n",
    "        print('Your estimate is too low, go up a little!')\n",
    "    if guess > number:\n",
    "        print('Your estimate is too high, go down a bit!')\n",
    "    if guess == number:\n",
    "        break\n",
    "if guess == number:\n",
    "    print( 'Congratulations {}, you guessed the number in {} tries!'.format(player_name, number_of_guesses))\n",
    "else:\n",
    "    print('Close but no cigar, you couldn\\'t guess the number. \\nWell, the number was {}.'.format(number))"
   ]
  },
  {
   "cell_type": "code",
   "execution_count": null,
   "id": "36463927",
   "metadata": {},
   "outputs": [],
   "source": []
  }
 ],
 "metadata": {
  "kernelspec": {
   "display_name": "Python 3 (ipykernel)",
   "language": "python",
   "name": "python3"
  },
  "language_info": {
   "codemirror_mode": {
    "name": "ipython",
    "version": 3
   },
   "file_extension": ".py",
   "mimetype": "text/x-python",
   "name": "python",
   "nbconvert_exporter": "python",
   "pygments_lexer": "ipython3",
   "version": "3.9.12"
  }
 },
 "nbformat": 4,
 "nbformat_minor": 5
}
